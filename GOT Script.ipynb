{
 "cells": [
  {
   "cell_type": "code",
   "execution_count": 44,
   "metadata": {},
   "outputs": [],
   "source": [
    "import pandas as pd\n",
    "import numpy as np\n",
    "import matplotlib.pyplot as plt\n",
    "%matplotlib inline\n",
    "\n",
    "script_csv = pd.read_csv(r\"C:\\Users\\Christopher\\Desktop\\Python\\Notebooks\\Datasets\\GOT Markov Project\\got_scripts_breakdown.csv\")"
   ]
  },
  {
   "cell_type": "code",
   "execution_count": 45,
   "metadata": {},
   "outputs": [
    {
     "name": "stderr",
     "output_type": "stream",
     "text": [
      "C:\\Users\\Christopher\\Anaconda3\\lib\\site-packages\\ipykernel_launcher.py:11: MatplotlibDeprecationWarning: Adding an axes using the same arguments as a previous axes currently reuses the earlier instance.  In a future version, a new instance will always be created and returned.  Meanwhile, this warning can be suppressed, and the future behavior ensured, by passing a unique label to each axes instance.\n",
      "  # This is added back by InteractiveShellApp.init_path()\n"
     ]
    },
    {
     "data": {
      "image/png": "[encoded data removed]",
      "text/plain": [
       "<Figure size 1080x576 with 1 Axes>"
      ]
     },
     "metadata": {
      "needs_background": "light"
     },
     "output_type": "display_data"
    }
   ],
   "source": [
    "relev_char = script_csv[\"Name\"].value_counts()[0:15] #getting the top 15 characters in terms of number of sentences spoken\n",
    "                                                     #in the GOT series\n",
    "\n",
    "#Visualizing this series\n",
    "plt.figure(figsize = [15,8])\n",
    "plt.bar(relev_char.index[::-1], relev_char.values[::-1], color = \"black\", edgecolor = \"white\", linewidth = 4)\n",
    "plt.xlabel(\"Character Name\", labelpad = 20, size = 18)\n",
    "plt.ylabel(\"Series Sentence Count\", labelpad= 20, size = 18)\n",
    "plt.suptitle(\"Game of Throne Characters and Dialogue Frequency\", size = 22, y = .95)\n",
    "plt.grid(color = \"white\", linewidth = 3, linestyle = \"--\", axis = \"y\")\n",
    "plt.axes().set_facecolor(\"yellow\")\n",
    "plt.show()"
   ]
  },
  {
   "cell_type": "code",
   "execution_count": 46,
   "metadata": {},
   "outputs": [],
   "source": [
    "#a function that flattens out any characters script\n",
    "def get_words(sentences_list):\n",
    "    sentences = [sentence for sentence in sentences_list] #combines all of the sentences into a list\n",
    "    words_list = [word.split(\" \") for word in sentences] #combines all of the words into lists\n",
    "    words_flat = [word for sublist in words_list for word in sublist] #flattens out all of the word sublists\n",
    "    return words_flat"
   ]
  },
  {
   "cell_type": "code",
   "execution_count": 47,
   "metadata": {},
   "outputs": [],
   "source": [
    "sentences = [\"this is a sentence\", \"again a sentence\", \"hmm another one\"]\n",
    "words = get_words(yes)"
   ]
  },
  {
   "cell_type": "code",
   "execution_count": 48,
   "metadata": {},
   "outputs": [],
   "source": [
    "from collections import defaultdict\n",
    "\n",
    "#creates a defaultdict containing all the possibilities current state (curent word) to next state (next word)\n",
    "def markov_chain(text): \n",
    "    \n",
    "    m_dict = defaultdict(list)\n",
    "    for current_word, next_word in zip(text[0:-1],text[1:]):\n",
    "        m_dict[current_word].append(next_word)\n",
    "        \n",
    "    m_dict = dict(m_dict)\n",
    "    return m_dict"
   ]
  },
  {
   "cell_type": "code",
   "execution_count": 49,
   "metadata": {},
   "outputs": [
    {
     "data": {
      "text/plain": [
       "{'this': ['is'],\n",
       " 'is': ['a'],\n",
       " 'a': ['sentence', 'sentence'],\n",
       " 'sentence': ['again', 'hmm'],\n",
       " 'again': ['a'],\n",
       " 'hmm': ['another'],\n",
       " 'another': ['one']}"
      ]
     },
     "execution_count": 49,
     "metadata": {},
     "output_type": "execute_result"
    }
   ],
   "source": [
    "words_dict = markov_chain(words)\n",
    "words_dict"
   ]
  },
  {
   "cell_type": "code",
   "execution_count": 50,
   "metadata": {},
   "outputs": [],
   "source": [
    "import random\n",
    "\n",
    "#generates a sentence based on the defaultdict markov chain\n",
    "def generate_sentence(chain, num_words): \n",
    "    count = random.randrange(0,num_words+1) #generates a random amount of words in the sentence (somewhere between 0 and 20)\n",
    "    word1 = random.choice(list(chain.keys()))\n",
    "    sentence = word1.capitalize()\n",
    "    \n",
    "    for i in range(count - 1):\n",
    "        word2 = random.choice(chain[word1])\n",
    "        word1 = word2\n",
    "        sentence = sentence + \" \" + word2\n",
    "        \n",
    "    sentence = sentence + \".\"\n",
    "    return(sentence)"
   ]
  },
  {
   "cell_type": "code",
   "execution_count": 51,
   "metadata": {},
   "outputs": [
    {
     "data": {
      "text/plain": [
       "'Again a sentence again a.'"
      ]
     },
     "execution_count": 51,
     "metadata": {},
     "output_type": "execute_result"
    }
   ],
   "source": [
    "new_sentence = generate_sentence(words_dict, 5)\n",
    "new_sentence"
   ]
  },
  {
   "cell_type": "code",
   "execution_count": 52,
   "metadata": {},
   "outputs": [],
   "source": [
    "#Generates a dictionary for the top n characters and stores in a list\n",
    "def create_dicts(top_chars):\n",
    "    char_dicts = []\n",
    "    relev_char = script_csv[\"Name\"].value_counts()[0:top_chars].index #gets list of top characters given the range\n",
    "    for i in range(top_chars):\n",
    "        char_df = script_csv[script_csv[\"Name\"] == relev_char[i]]\n",
    "        char_script = char_df[\"Sentence\"]\n",
    "        words_flat = get_words(char_script)\n",
    "        char_dict = markov_chain(words_flat)\n",
    "        char_dicts.append(char_dict)\n",
    "    return char_dicts"
   ]
  },
  {
   "cell_type": "code",
   "execution_count": 53,
   "metadata": {},
   "outputs": [],
   "source": [
    "#Generates a script based on n top characters, n lines desired, and n words per line \n",
    "def create_scripts(top_chars, num_lines, num_words):\n",
    "    char_list_of_dicts = create_dicts(top_chars) #creates the character dictionaries based on number n of top characters\n",
    "    relev_char = script_csv[\"Name\"].value_counts()[0:top_chars] #gets list of top characters given the range\n",
    "    for i in range(num_lines): \n",
    "        char = random.randrange(0, top_chars) #selects a random character from number n of top characters\n",
    "        char_sentence = generate_sentence(char_list_of_dicts[char], num_words)\n",
    "        print(relev_char.index[char], \": \", char_sentence)"
   ]
  },
  {
   "cell_type": "code",
   "execution_count": 58,
   "metadata": {},
   "outputs": [
    {
     "name": "stdout",
     "output_type": "stream",
     "text": [
      "jon :  Field of your fight Stannis? Are.\n",
      "tyrion :  Diplomatic.\n",
      "jon :  He lived here debating.\n",
      "cersei :  Loudly.\n",
      "tyrion :  Become a man without meeting Thats cruel even have.\n",
      "cersei :  Feel him He will take his whores more painful death Uncle?.\n",
      "tyrion :  And there.\n",
      "jon :  Ate with Daenerys Targaryen Get some.\n",
      "tyrion :  Iced milk and their marks Hold fast Hold fast Hold fast.\n",
      "jon :  Knights of your prisoner? Im the girls.\n",
      "jon :  Putting a whore named Ros took the training yard anymore.\n",
      "jon :  Order But Im.\n",
      "tyrion :  Nephews behavior I am Tyrion please Your Grace My.\n",
      "tyrion :  Wildfire and that for? The Wall Leave us Joffrey died?.\n",
      "tyrion :  Boar Cersei have witnessed gives a moment.\n",
      "tyrion :  Song? I would want to her A stupid enough while you agree.\n",
      "tyrion :  Hates.\n",
      "jon :  Knew and theyre wrapped up with an army of Winterfell You.\n",
      "cersei :  Carriage at Blackwater do A good at me.\n",
      "cersei :  Crone came home Im.\n"
     ]
    }
   ],
   "source": [
    "create_scripts(3,20,12)"
   ]
  },
  {
   "cell_type": "code",
   "execution_count": null,
   "metadata": {},
   "outputs": [],
   "source": []
  }
 ],
 "metadata": {
  "kernelspec": {
   "display_name": "Python 3",
   "language": "python",
   "name": "python3"
  },
  "language_info": {
   "codemirror_mode": {
    "name": "ipython",
    "version": 3
   },
   "file_extension": ".py",
   "mimetype": "text/x-python",
   "name": "python",
   "nbconvert_exporter": "python",
   "pygments_lexer": "ipython3",
   "version": "3.7.4"
  }
 },
 "nbformat": 4,
 "nbformat_minor": 2
}
